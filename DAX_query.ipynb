{
 "cells": [
  {
   "cell_type": "markdown",
   "id": "a6f477ba-c91f-4133-b7ba-af38cf88de26",
   "metadata": {},
   "source": [
    "***Found DAX queries according to business analysis visuals***"
   ]
  },
  {
   "cell_type": "code",
   "execution_count": null,
   "id": "3a3ef801-38ac-4b8c-b186-876bec10eebd",
   "metadata": {},
   "outputs": [],
   "source": [
    "total_no_of_sales = COUNT('global_electronics sales'[OrderNumber])"
   ]
  },
  {
   "cell_type": "code",
   "execution_count": null,
   "id": "ebc738cc-6503-4e1b-9503-15958ba87526",
   "metadata": {},
   "outputs": [],
   "source": [
    "CustomerSummary = \n",
    "SUMMARIZE(\n",
    "    'global_electronics sales',\n",
    "    'global_electronics sales'[CustomerKey],\n",
    "    \"Total Sales\", SUMX('global_electronics sales', 'global_electronics sales'[Quantity] * RELATED('global_electronics products'[UnitPriceUSD])),\n",
    "    \"Avg Order Value\", AVERAGEX('global_electronics sales', 'global_electronics sales'[Quantity] * RELATED('global_electronics products'[UnitPriceUSD])),\n",
    "    \"Purchase Frequency\", COUNTROWS('global_electronics sales')\n",
    ")\n"
   ]
  },
  {
   "cell_type": "code",
   "execution_count": null,
   "id": "55f3acf0-4a98-43ac-9a86-ee02d608ae82",
   "metadata": {},
   "outputs": [],
   "source": [
    "DateTable = \n",
    "CALENDAR(\n",
    "    MIN('global_electronics sales'[OrderDate]),\n",
    "    MAX('global_electronics sales'[OrderDate])\n",
    ")\n"
   ]
  },
  {
   "cell_type": "code",
   "execution_count": null,
   "id": "53e6448f-0a2b-4688-8928-a61e97a98258",
   "metadata": {},
   "outputs": [],
   "source": [
    "Earliest Order Date = MIN('global_electronics sales'[OrderDate])\n"
   ]
  },
  {
   "cell_type": "code",
   "execution_count": null,
   "id": "212c3901-9967-4046-ac23-8a73ce80c1f0",
   "metadata": {},
   "outputs": [],
   "source": [
    "total sale by Year = \n",
    "CALCULATE(\n",
    "    SUM('global_electronics sales'[Quantity]),\n",
    "    YEAR('global_electronics sales'[OrderDate]) = YEAR(TODAY())\n",
    ")\n"
   ]
  },
  {
   "cell_type": "code",
   "execution_count": null,
   "id": "704a8434-e557-4edb-871d-13dba0a31834",
   "metadata": {},
   "outputs": [],
   "source": [
    "Age_Category = \n",
    "IF(\n",
    "    [age] >= 0 && [age] <= 25, \"0-25\",\n",
    "    IF(\n",
    "        [age] > 25 && [age] <= 35, \"26-35\",\n",
    "        IF(\n",
    "            [age] > 35 && [age] <= 45, \"36-45\",\n",
    "            IF(\n",
    "                [age] > 45 && [age] <= 55, \"46-55\",\n",
    "                \"56+\"\n",
    "            )\n",
    "        )\n",
    "    )\n",
    ")\n"
   ]
  },
  {
   "cell_type": "code",
   "execution_count": null,
   "id": "c0326423-04ba-4449-aff9-ad992ae7991a",
   "metadata": {},
   "outputs": [],
   "source": [
    "Average_Order_Value = AVERAGEX(VALUES('global_electronics sales'[OrderNumber]), [Order_Value])"
   ]
  },
  {
   "cell_type": "code",
   "execution_count": null,
   "id": "bba46cf7-20dd-41c1-91a9-4910060972fa",
   "metadata": {},
   "outputs": [],
   "source": [
    "Avg_Total_Quantity_Sold = AVERAGE('global_electronics sales'[Quantity])"
   ]
  },
  {
   "cell_type": "code",
   "execution_count": null,
   "id": "75e0e4ec-c29c-4a8a-82a1-59dec884cb15",
   "metadata": {},
   "outputs": [],
   "source": [
    "Order_Value = SUMX('global_electronics sales', 'global_electronics sales'[Quantity] * AVERAGE('global_electronics products'[UnitPriceUSD]))\n"
   ]
  },
  {
   "cell_type": "code",
   "execution_count": null,
   "id": "6ddd76db-1b80-4095-842e-062b29dbdd92",
   "metadata": {},
   "outputs": [],
   "source": [
    "Purchase_Frequency_Sales = COUNTROWS('global_electronics sales')\n"
   ]
  },
  {
   "cell_type": "code",
   "execution_count": null,
   "id": "e08ba549-02ea-4888-af77-66aa4c408023",
   "metadata": {},
   "outputs": [],
   "source": [
    "total customers = COUNTROWS('global_electronics customers')"
   ]
  },
  {
   "cell_type": "code",
   "execution_count": null,
   "id": "563d6b07-9df5-4a08-81b2-24ce09c5b617",
   "metadata": {},
   "outputs": [],
   "source": [
    "total_female = CALCULATE([total customers], 'global_electronics customers'[Gender]=\"Female\")"
   ]
  },
  {
   "cell_type": "code",
   "execution_count": null,
   "id": "e12f6b33-f43e-4794-b20e-500085a5c33a",
   "metadata": {},
   "outputs": [],
   "source": [
    "total_male = CALCULATE([total customers], 'global_electronics customers'[Gender]=\"Male\")"
   ]
  },
  {
   "cell_type": "code",
   "execution_count": null,
   "id": "71fa11cc-d3b3-489b-824f-1cf2ea7abd32",
   "metadata": {},
   "outputs": [],
   "source": [
    "Total_Quantity_Sold = SUM('global_electronics sales'[Quantity])\n"
   ]
  },
  {
   "cell_type": "code",
   "execution_count": null,
   "id": "f3c17012-3e48-418c-b9f0-34d9e93a689f",
   "metadata": {},
   "outputs": [],
   "source": [
    "ExchangeKey = 'global_electronics exchange_rates'[Currency] & \"-\" & FORMAT('global_electronics exchange_rates'[Date], \"YYYY-MM-DD\")\n"
   ]
  },
  {
   "cell_type": "code",
   "execution_count": null,
   "id": "afbc3090-9ab8-4b30-966e-be4b4b69d977",
   "metadata": {},
   "outputs": [],
   "source": [
    "ProfitMargin = \n",
    "DIVIDE(\n",
    "    'global_electronics products'[UnitPriceUSD] - 'global_electronics products'[UnitCostUSD],\n",
    "    'global_electronics products'[UnitCostUSD],\n",
    "    0\n",
    ") * 100\n"
   ]
  },
  {
   "cell_type": "code",
   "execution_count": null,
   "id": "57441123-8bbd-4832-ba53-9f9601f4b09a",
   "metadata": {},
   "outputs": [],
   "source": [
    "ProfitPerUnit = \n",
    "    AVERAGE('global_electronics products'[UnitPriceUSD]) - \n",
    "    AVERAGE('global_electronics products'[UnitCostUSD])\n"
   ]
  },
  {
   "cell_type": "code",
   "execution_count": null,
   "id": "d6d5e64d-d674-4b12-aa03-96219a56526c",
   "metadata": {},
   "outputs": [],
   "source": [
    "total_product = CALCULATE(COUNT('global_electronics products'[ProductName]))\n"
   ]
  },
  {
   "cell_type": "code",
   "execution_count": null,
   "id": "f8dbc281-0d99-44a6-93dd-bf06d532d24e",
   "metadata": {},
   "outputs": [],
   "source": [
    "TotalProfit = \n",
    "SUMX(\n",
    "    'global_electronics sales',\n",
    "    (RELATED('global_electronics products'[UnitPriceUSD]) - RELATED('global_electronics products'[UnitCostUSD])) * \n",
    "    'global_electronics sales'[Quantity]\n",
    ")\n",
    "\n"
   ]
  },
  {
   "cell_type": "code",
   "execution_count": null,
   "id": "777b4e15-98b4-482e-aaf9-1cf10f1d8c45",
   "metadata": {},
   "outputs": [],
   "source": [
    "Average_Order_Value_per_Customer = DIVIDE([Total_Sales_per_Customer], COUNTROWS('global_electronics sales'))\n"
   ]
  },
  {
   "cell_type": "code",
   "execution_count": null,
   "id": "d8e69cd6-5344-4392-b201-3b3964929f0d",
   "metadata": {},
   "outputs": [],
   "source": [
    "Frequent_Buyers = \n",
    "IF(\n",
    "    [PurchaseFrequencyCol] >= 10, \n",
    "    \"Frequent\", \n",
    "    \"Infrequent\"\n",
    ")\n"
   ]
  },
  {
   "cell_type": "code",
   "execution_count": null,
   "id": "4fd5c908-d045-4783-9149-a25916510404",
   "metadata": {},
   "outputs": [],
   "source": [
    "High_Value_Customers = IF([Total_Sales_per_Customer] > 1000, \"High-Value\", \"Regular\")"
   ]
  },
  {
   "cell_type": "code",
   "execution_count": null,
   "id": "1b2c9a8c-7e68-4a27-8479-c9d28a61dce5",
   "metadata": {},
   "outputs": [],
   "source": [
    "Loyalty = IF(COUNTROWS(DISTINCT('global_electronics sales'[OrderDate])) > 12, \"Loyal\", \"New\")\n"
   ]
  },
  {
   "cell_type": "code",
   "execution_count": null,
   "id": "ded05885-0413-4fe3-8cf2-49eb8076181d",
   "metadata": {},
   "outputs": [],
   "source": [
    "Month = FORMAT('global_electronics sales'[OrderDate], \"MMMM\")\n"
   ]
  },
  {
   "cell_type": "code",
   "execution_count": null,
   "id": "af77efd2-aab6-4907-adbe-5b1d27390d19",
   "metadata": {},
   "outputs": [],
   "source": [
    "PurchaseFrequencyCol = \n",
    "CALCULATE(\n",
    "    COUNT('global_electronics sales'[OrderNumber]),\n",
    "    ALLEXCEPT('global_electronics sales', 'global_electronics sales'[CustomerKey])\n",
    ")\n",
    "\n"
   ]
  },
  {
   "cell_type": "code",
   "execution_count": null,
   "id": "9e8dd6d7-ca33-47d0-b796-861411dcff3a",
   "metadata": {},
   "outputs": [],
   "source": [
    "Quarter = \"Q\" & QUARTER('global_electronics sales'[OrderDate])\n"
   ]
  },
  {
   "cell_type": "code",
   "execution_count": null,
   "id": "478e15e3-39db-49cd-8b10-4c7ffac1bc3b",
   "metadata": {},
   "outputs": [],
   "source": [
    "Rate_based_on_other_currency_code = 'global_electronics sales'[Quantity] * RELATED('global_electronics products'[UnitPriceUSD]) * \n",
    "    RELATED('global_electronics exchange_rates'[Exchange])\n",
    "\n"
   ]
  },
  {
   "cell_type": "code",
   "execution_count": null,
   "id": "cc849c96-5e1e-4151-8a14-5f4a66dcb4e9",
   "metadata": {},
   "outputs": [],
   "source": [
    "SalesKey = 'global_electronics sales'[CurrencyCode] & \"-\" & FORMAT('global_electronics sales'[OrderDate], \"YYYY-MM-DD\")\n"
   ]
  },
  {
   "cell_type": "code",
   "execution_count": null,
   "id": "4957c3e3-2dca-46ed-b4fd-11de3c7b45b0",
   "metadata": {},
   "outputs": [],
   "source": [
    "Total_Sales_per_Customer = SUMX('global_electronics sales', 'global_electronics sales'[Quantity] * RELATED('global_electronics products'[UnitPriceUSD]))"
   ]
  },
  {
   "cell_type": "code",
   "execution_count": null,
   "id": "f6e110d5-a03d-483a-8887-6522e154f4c1",
   "metadata": {},
   "outputs": [],
   "source": [
    "Total_Sales_USD = \n",
    "SUMX(\n",
    "    'global_electronics sales',\n",
    "    'global_electronics sales'[Quantity] / RELATED('global_electronics exchange_rates'[Exchange])\n",
    ")\n"
   ]
  },
  {
   "cell_type": "code",
   "execution_count": null,
   "id": "748523c0-8400-4637-baa6-078e7f3b071a",
   "metadata": {},
   "outputs": [],
   "source": [
    "Week = WEEKNUM('global_electronics sales'[OrderDate])\n"
   ]
  },
  {
   "cell_type": "code",
   "execution_count": null,
   "id": "696ac2da-a528-45da-ad12-4e02b22a69f0",
   "metadata": {},
   "outputs": [],
   "source": [
    "store_age = DATEDIFF('global_electronics stores'[OpenDate], TODAY(), YEAR)\n"
   ]
  }
 ],
 "metadata": {
  "kernelspec": {
   "display_name": "Python 3 (ipykernel)",
   "language": "python",
   "name": "python3"
  },
  "language_info": {
   "codemirror_mode": {
    "name": "ipython",
    "version": 3
   },
   "file_extension": ".py",
   "mimetype": "text/x-python",
   "name": "python",
   "nbconvert_exporter": "python",
   "pygments_lexer": "ipython3",
   "version": "3.12.3"
  }
 },
 "nbformat": 4,
 "nbformat_minor": 5
}
