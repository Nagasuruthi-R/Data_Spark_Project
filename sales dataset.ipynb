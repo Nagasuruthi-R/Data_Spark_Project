{
 "cells": [
  {
   "cell_type": "code",
   "execution_count": 1,
   "id": "6a96f723-a58f-4188-a921-20a2ceb2df51",
   "metadata": {},
   "outputs": [],
   "source": [
    "# Importing necessary libraries\n",
    "import pandas as pd\n",
    "import seaborn as sns\n",
    "import matplotlib.pyplot as plt"
   ]
  },
  {
   "cell_type": "code",
   "execution_count": 2,
   "id": "3d3a81e5-b8c8-488a-92d8-388fdc2e9bdc",
   "metadata": {},
   "outputs": [],
   "source": [
    "# Read sales excel sheet\n",
    "sales = pd.read_csv(r\"C:\\Users\\Green Gen Tech\\Downloads\\sales_again.csv\")"
   ]
  },
  {
   "cell_type": "code",
   "execution_count": 3,
   "id": "4d5bdad8-cd15-49f1-b1a7-cba3f9ae3e60",
   "metadata": {},
   "outputs": [
    {
     "data": {
      "text/plain": [
       "Order Number         0\n",
       "Line Item            0\n",
       "Order Date           0\n",
       "Delivery Date    49719\n",
       "CustomerKey          0\n",
       "StoreKey             0\n",
       "ProductKey           0\n",
       "Quantity             0\n",
       "Currency Code        0\n",
       "dtype: int64"
      ]
     },
     "execution_count": 3,
     "metadata": {},
     "output_type": "execute_result"
    }
   ],
   "source": [
    "# Checking null values\n",
    "sales.isnull().sum()"
   ]
  },
  {
   "cell_type": "code",
   "execution_count": 4,
   "id": "83ab076a-59fe-4595-bb09-66105bd70d35",
   "metadata": {},
   "outputs": [
    {
     "data": {
      "text/plain": [
       "(62884, 9)"
      ]
     },
     "execution_count": 4,
     "metadata": {},
     "output_type": "execute_result"
    }
   ],
   "source": [
    "# Original shape of the sales excel sheet\n",
    "sales.shape"
   ]
  },
  {
   "cell_type": "code",
   "execution_count": 6,
   "id": "c5b4e221-2ebd-44de-b6b9-62f32187a533",
   "metadata": {},
   "outputs": [
    {
     "data": {
      "text/html": [
       "<div>\n",
       "<style scoped>\n",
       "    .dataframe tbody tr th:only-of-type {\n",
       "        vertical-align: middle;\n",
       "    }\n",
       "\n",
       "    .dataframe tbody tr th {\n",
       "        vertical-align: top;\n",
       "    }\n",
       "\n",
       "    .dataframe thead th {\n",
       "        text-align: right;\n",
       "    }\n",
       "</style>\n",
       "<table border=\"1\" class=\"dataframe\">\n",
       "  <thead>\n",
       "    <tr style=\"text-align: right;\">\n",
       "      <th></th>\n",
       "      <th>Order Number</th>\n",
       "      <th>Line Item</th>\n",
       "      <th>Order Date</th>\n",
       "      <th>Delivery Date</th>\n",
       "      <th>CustomerKey</th>\n",
       "      <th>StoreKey</th>\n",
       "      <th>ProductKey</th>\n",
       "      <th>Quantity</th>\n",
       "      <th>Currency Code</th>\n",
       "    </tr>\n",
       "  </thead>\n",
       "  <tbody>\n",
       "    <tr>\n",
       "      <th>0</th>\n",
       "      <td>366000</td>\n",
       "      <td>1</td>\n",
       "      <td>1/1/2016</td>\n",
       "      <td>NaN</td>\n",
       "      <td>265598</td>\n",
       "      <td>10</td>\n",
       "      <td>1304</td>\n",
       "      <td>1</td>\n",
       "      <td>CAD</td>\n",
       "    </tr>\n",
       "    <tr>\n",
       "      <th>1</th>\n",
       "      <td>366001</td>\n",
       "      <td>1</td>\n",
       "      <td>1/1/2016</td>\n",
       "      <td>1/13/2016</td>\n",
       "      <td>1269051</td>\n",
       "      <td>0</td>\n",
       "      <td>1048</td>\n",
       "      <td>2</td>\n",
       "      <td>USD</td>\n",
       "    </tr>\n",
       "    <tr>\n",
       "      <th>2</th>\n",
       "      <td>366001</td>\n",
       "      <td>2</td>\n",
       "      <td>1/1/2016</td>\n",
       "      <td>1/13/2016</td>\n",
       "      <td>1269051</td>\n",
       "      <td>0</td>\n",
       "      <td>2007</td>\n",
       "      <td>1</td>\n",
       "      <td>USD</td>\n",
       "    </tr>\n",
       "    <tr>\n",
       "      <th>3</th>\n",
       "      <td>366002</td>\n",
       "      <td>1</td>\n",
       "      <td>1/1/2016</td>\n",
       "      <td>1/12/2016</td>\n",
       "      <td>266019</td>\n",
       "      <td>0</td>\n",
       "      <td>1106</td>\n",
       "      <td>7</td>\n",
       "      <td>CAD</td>\n",
       "    </tr>\n",
       "    <tr>\n",
       "      <th>4</th>\n",
       "      <td>366002</td>\n",
       "      <td>2</td>\n",
       "      <td>1/1/2016</td>\n",
       "      <td>1/12/2016</td>\n",
       "      <td>266019</td>\n",
       "      <td>0</td>\n",
       "      <td>373</td>\n",
       "      <td>1</td>\n",
       "      <td>CAD</td>\n",
       "    </tr>\n",
       "  </tbody>\n",
       "</table>\n",
       "</div>"
      ],
      "text/plain": [
       "   Order Number  Line Item Order Date Delivery Date  CustomerKey  StoreKey  \\\n",
       "0        366000          1   1/1/2016           NaN       265598        10   \n",
       "1        366001          1   1/1/2016     1/13/2016      1269051         0   \n",
       "2        366001          2   1/1/2016     1/13/2016      1269051         0   \n",
       "3        366002          1   1/1/2016     1/12/2016       266019         0   \n",
       "4        366002          2   1/1/2016     1/12/2016       266019         0   \n",
       "\n",
       "   ProductKey  Quantity Currency Code  \n",
       "0        1304         1           CAD  \n",
       "1        1048         2           USD  \n",
       "2        2007         1           USD  \n",
       "3        1106         7           CAD  \n",
       "4         373         1           CAD  "
      ]
     },
     "execution_count": 6,
     "metadata": {},
     "output_type": "execute_result"
    }
   ],
   "source": [
    "# observing few records \n",
    "sales.head()"
   ]
  },
  {
   "cell_type": "code",
   "execution_count": 7,
   "id": "ffb9d55e-36a7-4f36-8d30-3fcf1cb23be1",
   "metadata": {},
   "outputs": [],
   "source": [
    "# convering to datatime for order date and delivery date\n",
    "sales['Order Date'] = pd.to_datetime(sales['Order Date'], errors='coerce')\n",
    "sales['Delivery Date'] = pd.to_datetime(sales['Delivery Date'], errors='coerce')"
   ]
  },
  {
   "cell_type": "code",
   "execution_count": 10,
   "id": "f76d1b30-a021-4169-9c12-7ac7aa89cb20",
   "metadata": {},
   "outputs": [
    {
     "data": {
      "text/plain": [
       "Order Number         0\n",
       "Line Item            0\n",
       "Order Date           0\n",
       "Delivery Date    49719\n",
       "CustomerKey          0\n",
       "StoreKey             0\n",
       "ProductKey           0\n",
       "Quantity             0\n",
       "Currency Code        0\n",
       "dtype: int64"
      ]
     },
     "execution_count": 10,
     "metadata": {},
     "output_type": "execute_result"
    }
   ],
   "source": [
    "sales.isnull().sum()"
   ]
  },
  {
   "cell_type": "code",
   "execution_count": 11,
   "id": "5659ba45-c6b6-48a6-8800-419f4360e8a4",
   "metadata": {},
   "outputs": [
    {
     "name": "stdout",
     "output_type": "stream",
     "text": [
      "Min date in sales dataframe is 2016-01-01 00:00:00\n",
      "and Max date in sales dataframe is 2021-02-20 00:00:00\n"
     ]
    }
   ],
   "source": [
    "min_date = sales['Order Date'].min()\n",
    "max_date = sales['Order Date'].max()\n",
    "print(f\"Min date in sales dataframe is {min_date}\\nand Max date in sales dataframe is {max_date}\")"
   ]
  },
  {
   "cell_type": "code",
   "execution_count": 12,
   "id": "b1192ca1-7931-4d2e-97ce-8f6162b2e181",
   "metadata": {},
   "outputs": [],
   "source": [
    "# using bin frequency as 6 months\n",
    "bin_frequency = '6M'"
   ]
  },
  {
   "cell_type": "code",
   "execution_count": 13,
   "id": "c54b8ee1-49e1-43be-8d94-ca7c7802baa4",
   "metadata": {},
   "outputs": [],
   "source": [
    "date_bins = pd.date_range(start=min_date, end=max_date, freq=bin_frequency)"
   ]
  },
  {
   "cell_type": "code",
   "execution_count": null,
   "id": "02135de2-0a58-42d4-bbdd-91a8e289f598",
   "metadata": {},
   "outputs": [],
   "source": []
  },
  {
   "cell_type": "code",
   "execution_count": 14,
   "id": "f34e5157-637b-4339-87f1-2d055a73123b",
   "metadata": {},
   "outputs": [],
   "source": [
    "# Calculate the difference in days\n",
    "sales['Difference'] = (sales['Delivery Date'] - sales['Order Date']).dt.days\n",
    "\n",
    "# Calculate the average difference\n",
    "average_difference = sales['Difference'].mean()"
   ]
  },
  {
   "cell_type": "code",
   "execution_count": 15,
   "id": "9be01c27-8cf7-4af6-89b9-60e9ac041db1",
   "metadata": {},
   "outputs": [
    {
     "name": "stdout",
     "output_type": "stream",
     "text": [
      "Average difference in days: 4.529130269654386\n"
     ]
    }
   ],
   "source": [
    "# average differnce of the delivery date and order date is\n",
    "print(f'Average difference in days: {average_difference}')"
   ]
  },
  {
   "cell_type": "code",
   "execution_count": 16,
   "id": "13134d48-ff83-44de-8627-60a5b57feee0",
   "metadata": {},
   "outputs": [],
   "source": [
    "# Fill null values in 'Delivery Date' with 'Order Date' + average_difference\n",
    "sales['Delivery Date'].fillna(sales['Order Date'] + pd.to_timedelta(average_difference, unit='days'), inplace=True)\n",
    "\n",
    "# Drop the 'Difference' column as it's no longer needed\n",
    "sales.drop(columns=['Difference'], inplace=True)"
   ]
  },
  {
   "cell_type": "code",
   "execution_count": 18,
   "id": "7e3e0ea6-ee32-4dcf-af46-18c173049e85",
   "metadata": {},
   "outputs": [],
   "source": [
    "excel = \"C:\\\\Users\\\\Green Gen Tech\\\\Downloads\\\\Sales_again_1.xlsx\"\n",
    "sales.to_excel(excel,index = False)"
   ]
  },
  {
   "cell_type": "code",
   "execution_count": 19,
   "id": "5fbd7691-b918-4759-a090-f2bd3b42bf82",
   "metadata": {},
   "outputs": [
    {
     "data": {
      "text/html": [
       "<div>\n",
       "<style scoped>\n",
       "    .dataframe tbody tr th:only-of-type {\n",
       "        vertical-align: middle;\n",
       "    }\n",
       "\n",
       "    .dataframe tbody tr th {\n",
       "        vertical-align: top;\n",
       "    }\n",
       "\n",
       "    .dataframe thead th {\n",
       "        text-align: right;\n",
       "    }\n",
       "</style>\n",
       "<table border=\"1\" class=\"dataframe\">\n",
       "  <thead>\n",
       "    <tr style=\"text-align: right;\">\n",
       "      <th></th>\n",
       "      <th>Order Number</th>\n",
       "      <th>Line Item</th>\n",
       "      <th>Order Date</th>\n",
       "      <th>Delivery Date</th>\n",
       "      <th>CustomerKey</th>\n",
       "      <th>StoreKey</th>\n",
       "      <th>ProductKey</th>\n",
       "      <th>Quantity</th>\n",
       "      <th>Currency Code</th>\n",
       "    </tr>\n",
       "  </thead>\n",
       "  <tbody>\n",
       "    <tr>\n",
       "      <th>0</th>\n",
       "      <td>366000</td>\n",
       "      <td>1</td>\n",
       "      <td>2016-01-01</td>\n",
       "      <td>2016-01-05 12:41:56.855298140</td>\n",
       "      <td>265598</td>\n",
       "      <td>10</td>\n",
       "      <td>1304</td>\n",
       "      <td>1</td>\n",
       "      <td>CAD</td>\n",
       "    </tr>\n",
       "    <tr>\n",
       "      <th>1</th>\n",
       "      <td>366001</td>\n",
       "      <td>1</td>\n",
       "      <td>2016-01-01</td>\n",
       "      <td>2016-01-13 00:00:00.000000000</td>\n",
       "      <td>1269051</td>\n",
       "      <td>0</td>\n",
       "      <td>1048</td>\n",
       "      <td>2</td>\n",
       "      <td>USD</td>\n",
       "    </tr>\n",
       "    <tr>\n",
       "      <th>2</th>\n",
       "      <td>366001</td>\n",
       "      <td>2</td>\n",
       "      <td>2016-01-01</td>\n",
       "      <td>2016-01-13 00:00:00.000000000</td>\n",
       "      <td>1269051</td>\n",
       "      <td>0</td>\n",
       "      <td>2007</td>\n",
       "      <td>1</td>\n",
       "      <td>USD</td>\n",
       "    </tr>\n",
       "    <tr>\n",
       "      <th>3</th>\n",
       "      <td>366002</td>\n",
       "      <td>1</td>\n",
       "      <td>2016-01-01</td>\n",
       "      <td>2016-01-12 00:00:00.000000000</td>\n",
       "      <td>266019</td>\n",
       "      <td>0</td>\n",
       "      <td>1106</td>\n",
       "      <td>7</td>\n",
       "      <td>CAD</td>\n",
       "    </tr>\n",
       "    <tr>\n",
       "      <th>4</th>\n",
       "      <td>366002</td>\n",
       "      <td>2</td>\n",
       "      <td>2016-01-01</td>\n",
       "      <td>2016-01-12 00:00:00.000000000</td>\n",
       "      <td>266019</td>\n",
       "      <td>0</td>\n",
       "      <td>373</td>\n",
       "      <td>1</td>\n",
       "      <td>CAD</td>\n",
       "    </tr>\n",
       "  </tbody>\n",
       "</table>\n",
       "</div>"
      ],
      "text/plain": [
       "   Order Number  Line Item Order Date                 Delivery Date  \\\n",
       "0        366000          1 2016-01-01 2016-01-05 12:41:56.855298140   \n",
       "1        366001          1 2016-01-01 2016-01-13 00:00:00.000000000   \n",
       "2        366001          2 2016-01-01 2016-01-13 00:00:00.000000000   \n",
       "3        366002          1 2016-01-01 2016-01-12 00:00:00.000000000   \n",
       "4        366002          2 2016-01-01 2016-01-12 00:00:00.000000000   \n",
       "\n",
       "   CustomerKey  StoreKey  ProductKey  Quantity Currency Code  \n",
       "0       265598        10        1304         1           CAD  \n",
       "1      1269051         0        1048         2           USD  \n",
       "2      1269051         0        2007         1           USD  \n",
       "3       266019         0        1106         7           CAD  \n",
       "4       266019         0         373         1           CAD  "
      ]
     },
     "execution_count": 19,
     "metadata": {},
     "output_type": "execute_result"
    }
   ],
   "source": [
    "sales.head()"
   ]
  },
  {
   "cell_type": "code",
   "execution_count": 21,
   "id": "2f88e5c6-63a2-4dbd-bd1a-f75ffa914246",
   "metadata": {},
   "outputs": [
    {
     "data": {
      "text/plain": [
       "Order Number              int64\n",
       "Line Item                 int64\n",
       "Order Date       datetime64[ns]\n",
       "Delivery Date    datetime64[ns]\n",
       "CustomerKey               int64\n",
       "StoreKey                  int64\n",
       "ProductKey                int64\n",
       "Quantity                  int64\n",
       "Currency Code            object\n",
       "dtype: object"
      ]
     },
     "execution_count": 21,
     "metadata": {},
     "output_type": "execute_result"
    }
   ],
   "source": [
    "data = sales.dtypes\n",
    "data"
   ]
  }
 ],
 "metadata": {
  "kernelspec": {
   "display_name": "Python 3 (ipykernel)",
   "language": "python",
   "name": "python3"
  },
  "language_info": {
   "codemirror_mode": {
    "name": "ipython",
    "version": 3
   },
   "file_extension": ".py",
   "mimetype": "text/x-python",
   "name": "python",
   "nbconvert_exporter": "python",
   "pygments_lexer": "ipython3",
   "version": "3.11.7"
  }
 },
 "nbformat": 4,
 "nbformat_minor": 5
}
