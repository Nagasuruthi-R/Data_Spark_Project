{
 "cells": [
  {
   "cell_type": "code",
   "execution_count": 1,
   "id": "d9334400-d48b-4170-a5f7-40a48fc178de",
   "metadata": {},
   "outputs": [],
   "source": [
    "import pandas as pd\n",
    "from sqlalchemy import create_engine\n",
    "import urllib.parse\n",
    "import mysql.connector"
   ]
  },
  {
   "cell_type": "code",
   "execution_count": 22,
   "id": "6eb63f2d-545f-4ec4-84da-9ac96c662025",
   "metadata": {},
   "outputs": [
    {
     "data": {
      "text/plain": [
       "<mysql.connector.cursor_cext.CMySQLCursor at 0x1b1b0f38690>"
      ]
     },
     "execution_count": 22,
     "metadata": {},
     "output_type": "execute_result"
    }
   ],
   "source": [
    "con = mysql.connector.connect(\n",
    "    host=\"localhost\",\n",
    "    user=\"root\",\n",
    "    password=\"Nagunaveen@143\"\n",
    ")\n",
    "cursor = con.cursor()\n",
    "cursor"
   ]
  },
  {
   "cell_type": "code",
   "execution_count": 14,
   "id": "6357868c-7e07-41e6-90a9-e9cf74733908",
   "metadata": {},
   "outputs": [],
   "source": [
    "# want to create a database\n",
    "query = \"create database global_electronics\"\n",
    "cursor.execute(query)"
   ]
  },
  {
   "cell_type": "markdown",
   "id": "678ab916-8713-4e11-8482-106f185d0d26",
   "metadata": {},
   "source": [
    "***Created Customers table***"
   ]
  },
  {
   "cell_type": "code",
   "execution_count": 6,
   "id": "e38c3d2f-d116-47e5-b913-13a24c00777c",
   "metadata": {},
   "outputs": [
    {
     "name": "stdout",
     "output_type": "stream",
     "text": [
      "Connected to MySQL database\n",
      "Table 'customers' created successfully.\n"
     ]
    }
   ],
   "source": [
    "import mysql.connector\n",
    "try:\n",
    "    con = mysql.connector.connect(\n",
    "        host=\"localhost\",\n",
    "        user=\"root\",\n",
    "        password=\"Nagunaveen@143\",\n",
    "        database=\"global_electronics\"\n",
    "    )\n",
    "    if con.is_connected():\n",
    "        print(\"Connected to MySQL database\")\n",
    "    cursor = con.cursor()\n",
    "    query = \"\"\"CREATE TABLE customers(\n",
    "                            CustomerKey int primary key,\n",
    "                            Gender varchar(20),\n",
    "                            Name varchar(100),\n",
    "                            City varchar(255),\n",
    "                            State_Code varchar(20),\n",
    "                            State varchar(100),\n",
    "                            Zip_Code varchar(20),\n",
    "                            Country varchar(50),\n",
    "                            Continent varchar(50),\n",
    "                            Birthday Date\n",
    "                )\"\"\"\n",
    "    cursor.execute(query)\n",
    "    print(\"Table 'customers' created successfully.\")\n",
    "    cursor.close()\n",
    "    con.close()\n",
    "except mysql.connector.Error as error:\n",
    "    print(\"Error connecting to MySQL:\", error)\n"
   ]
  },
  {
   "cell_type": "markdown",
   "id": "3df87bf3-516a-48d0-a561-fa2cf1577495",
   "metadata": {},
   "source": [
    "***Created Stores table***"
   ]
  },
  {
   "cell_type": "code",
   "execution_count": 9,
   "id": "a61c4afa-11e4-4f90-ac2b-5faed7be479b",
   "metadata": {},
   "outputs": [
    {
     "name": "stdout",
     "output_type": "stream",
     "text": [
      "Connected to MySQL database\n",
      "Table created successfully.\n"
     ]
    }
   ],
   "source": [
    "import mysql.connector\n",
    "try:\n",
    "    con = mysql.connector.connect(\n",
    "        host=\"localhost\",\n",
    "        user=\"root\",\n",
    "        password=\"Nagunaveen@143\",\n",
    "        database=\"global_electronics\"\n",
    "    )\n",
    "    if con.is_connected():\n",
    "        print(\"Connected to MySQL database\")\n",
    "    cursor = con.cursor()\n",
    "    query = \"\"\"CREATE TABLE stores ( \n",
    "                             StoreKey INT PRIMARY KEY,\n",
    "                             Country VARCHAR(50),\n",
    "                             State VARCHAR(100),\n",
    "                             SquareMeters INT,\n",
    "                             OpenDate DATE\n",
    "                            )\"\"\"\n",
    "    cursor.execute(query)\n",
    "    print(\"Table created successfully.\")\n",
    "    cursor.close()\n",
    "    con.close()\n",
    "except mysql.connector.Error as error:\n",
    "    print(\"Error connecting to MySQL:\", error)\n"
   ]
  },
  {
   "cell_type": "markdown",
   "id": "9c70e048-a283-4a19-b98a-51bc73a3b1a9",
   "metadata": {},
   "source": [
    "***Created Products table***"
   ]
  },
  {
   "cell_type": "code",
   "execution_count": 17,
   "id": "2be440d0-f855-445b-818e-99bdab6cb9db",
   "metadata": {},
   "outputs": [
    {
     "name": "stdout",
     "output_type": "stream",
     "text": [
      "Connected to MySQL database\n",
      "Table created successfully.\n"
     ]
    }
   ],
   "source": [
    "import mysql.connector\n",
    "try:\n",
    "    con = mysql.connector.connect(\n",
    "        host=\"localhost\",\n",
    "        user=\"root\",\n",
    "        password=\"Nagunaveen@143\",\n",
    "        database=\"global_electronics\"\n",
    "    )\n",
    "    if con.is_connected():\n",
    "        print(\"Connected to MySQL database\")\n",
    "    cursor = con.cursor()\n",
    "    query = \"\"\"CREATE TABLE products ( \n",
    "                           ProductKey INT PRIMARY KEY,\n",
    "                           ProductName VARCHAR(100),\n",
    "                           Brand VARCHAR(100),\n",
    "                           Color VARCHAR(50),\n",
    "                           UnitCostUSD float,\n",
    "                           UnitPriceUSD float,\n",
    "                           SubcategoryKey INT,\n",
    "                           Subcategory VARCHAR(100),\n",
    "                           CategoryKey INT,\n",
    "                           Category VARCHAR(100) \n",
    "                            )\"\"\"\n",
    "    cursor.execute(query)\n",
    "    print(\"Table created successfully.\")\n",
    "    cursor.close()\n",
    "    con.close()\n",
    "except mysql.connector.Error as error:\n",
    "    print(\"Error connecting to MySQL:\", error)\n"
   ]
  },
  {
   "cell_type": "markdown",
   "id": "b8f515d9-fe4e-4a4c-b70e-e335bc3974ed",
   "metadata": {},
   "source": [
    "***exchange rate***"
   ]
  },
  {
   "cell_type": "code",
   "execution_count": 12,
   "id": "505432b9-e82d-4846-9c71-3e5373327f79",
   "metadata": {},
   "outputs": [
    {
     "name": "stdout",
     "output_type": "stream",
     "text": [
      "Connected to MySQL database\n",
      "Table created successfully.\n"
     ]
    }
   ],
   "source": [
    "import mysql.connector\n",
    "try:\n",
    "    con = mysql.connector.connect(\n",
    "        host=\"localhost\",\n",
    "        user=\"root\",\n",
    "        password=\"Nagunaveen@143\",\n",
    "        database=\"global_electronics\"\n",
    "    )\n",
    "    if con.is_connected():\n",
    "        print(\"Connected to MySQL database\")\n",
    "    cursor = con.cursor()\n",
    "    query = \"\"\"CREATE TABLE exchange_rates( \n",
    "                                Date DATE,\n",
    "                                Currency varchar(20),\n",
    "                                Exchange float\n",
    "                                        )\"\"\"\n",
    "    cursor.execute(query)\n",
    "    print(\"Table created successfully.\")\n",
    "    cursor.close()\n",
    "    con.close()\n",
    "except mysql.connector.Error as error:\n",
    "    print(\"Error connecting to MySQL:\", error)\n"
   ]
  },
  {
   "cell_type": "markdown",
   "id": "9c4984ba-68a8-45d5-9043-6fc743f97abf",
   "metadata": {},
   "source": [
    "***created sales table***"
   ]
  },
  {
   "cell_type": "code",
   "execution_count": 15,
   "id": "74978f79-7dec-4d05-8e99-55148b855816",
   "metadata": {},
   "outputs": [
    {
     "name": "stdout",
     "output_type": "stream",
     "text": [
      "Connected to MySQL database\n",
      "Table created successfully.\n"
     ]
    }
   ],
   "source": [
    "import mysql.connector\n",
    "try:\n",
    "    con = mysql.connector.connect(\n",
    "        host=\"localhost\",\n",
    "        user=\"root\",\n",
    "        password=\"Nagunaveen@143\",\n",
    "        database=\"global_electronics\"\n",
    "    )\n",
    "    if con.is_connected():\n",
    "        print(\"Connected to MySQL database\")\n",
    "    cursor = con.cursor()\n",
    "    query = \"\"\"CREATE TABLE sales ( \n",
    "                            OrderNumber INT,\n",
    "                            LineItem INT,\n",
    "                            OrderDate DATE,\n",
    "                            DeliveryDate DATE,\n",
    "                            CustomerKey INT,\n",
    "                            StoreKey INT,\n",
    "                            ProductKey INT,\n",
    "                            Quantity INT,\n",
    "                            CurrencyCode VARCHAR(10),\n",
    "                            PRIMARY KEY (OrderNumber, LineItem),\n",
    "                            FOREIGN KEY (CustomerKey) REFERENCES Customers(CustomerKey),\n",
    "                            FOREIGN KEY (StoreKey) REFERENCES Stores(StoreKey),\n",
    "                            FOREIGN KEY (ProductKey) REFERENCES Products(ProductKey)\n",
    "                            )\"\"\"\n",
    "    cursor.execute(query)\n",
    "    print(\"Table created successfully.\")\n",
    "    cursor.close()\n",
    "    con.close()\n",
    "except mysql.connector.Error as error:\n",
    "    print(\"Error connecting to MySQL:\", error)\n"
   ]
  },
  {
   "cell_type": "code",
   "execution_count": 24,
   "id": "646ac87f-2417-4454-a584-98ca0dd7cac7",
   "metadata": {},
   "outputs": [
    {
     "name": "stdout",
     "output_type": "stream",
     "text": [
      "('CustomerKey', 'int', 'NO', 'PRI', None, '')\n",
      "('Gender', 'varchar(20)', 'YES', '', None, '')\n",
      "('Name', 'varchar(100)', 'YES', '', None, '')\n",
      "('City', 'varchar(255)', 'YES', '', None, '')\n",
      "('State_Code', 'varchar(20)', 'YES', '', None, '')\n",
      "('State', 'varchar(100)', 'YES', '', None, '')\n",
      "('Zip_Code', 'varchar(20)', 'YES', '', None, '')\n",
      "('Country', 'varchar(50)', 'YES', '', None, '')\n",
      "('Continent', 'varchar(50)', 'YES', '', None, '')\n",
      "('Birthday', 'date', 'YES', '', None, '')\n"
     ]
    }
   ],
   "source": [
    "query =\"describe customers\"\n",
    "cursor.execute(query)\n",
    "for i in cursor:\n",
    "    print(i)"
   ]
  },
  {
   "cell_type": "code",
   "execution_count": 17,
   "id": "18c0739b-cfc0-495f-9026-32424fe5a8da",
   "metadata": {},
   "outputs": [
    {
     "name": "stdout",
     "output_type": "stream",
     "text": [
      "('OrderNumber', 'int', 'NO', 'PRI', None, '')\n",
      "('LineItem', 'int', 'NO', 'PRI', None, '')\n",
      "('OrderDate', 'date', 'YES', '', None, '')\n",
      "('DeliveryDate', 'date', 'YES', '', None, '')\n",
      "('CustomerKey', 'int', 'YES', 'MUL', None, '')\n",
      "('StoreKey', 'int', 'YES', 'MUL', None, '')\n",
      "('ProductKey', 'int', 'YES', 'MUL', None, '')\n",
      "('Quantity', 'int', 'YES', '', None, '')\n",
      "('CurrencyCode', 'varchar(10)', 'YES', 'MUL', None, '')\n"
     ]
    }
   ],
   "source": [
    "query =\"describe sales\"\n",
    "cursor.execute(query)\n",
    "for i in cursor:\n",
    "    print(i)"
   ]
  },
  {
   "cell_type": "code",
   "execution_count": 18,
   "id": "732341b0-3e1e-4a13-966c-dab81577b764",
   "metadata": {},
   "outputs": [
    {
     "name": "stdout",
     "output_type": "stream",
     "text": [
      "('StoreKey', 'int', 'NO', 'PRI', None, '')\n",
      "('Country', 'varchar(50)', 'YES', '', None, '')\n",
      "('State', 'varchar(100)', 'YES', '', None, '')\n",
      "('SquareMeters', 'int', 'YES', '', None, '')\n",
      "('OpenDate', 'date', 'YES', '', None, '')\n"
     ]
    }
   ],
   "source": [
    "query =\"describe stores\"\n",
    "cursor.execute(query)\n",
    "for i in cursor:\n",
    "    print(i)"
   ]
  },
  {
   "cell_type": "code",
   "execution_count": 19,
   "id": "33291c86-4466-46ec-b73b-ec5f9efb8433",
   "metadata": {},
   "outputs": [
    {
     "name": "stdout",
     "output_type": "stream",
     "text": [
      "('OrderNumber', 'int', 'NO', 'PRI', None, '')\n",
      "('LineItem', 'int', 'NO', 'PRI', None, '')\n",
      "('OrderDate', 'date', 'YES', '', None, '')\n",
      "('DeliveryDate', 'date', 'YES', '', None, '')\n",
      "('CustomerKey', 'int', 'YES', 'MUL', None, '')\n",
      "('StoreKey', 'int', 'YES', 'MUL', None, '')\n",
      "('ProductKey', 'int', 'YES', 'MUL', None, '')\n",
      "('Quantity', 'int', 'YES', '', None, '')\n",
      "('CurrencyCode', 'varchar(10)', 'YES', 'MUL', None, '')\n"
     ]
    }
   ],
   "source": [
    "query =\"describe sales\"\n",
    "cursor.execute(query)\n",
    "for i in cursor:\n",
    "    print(i)"
   ]
  },
  {
   "cell_type": "code",
   "execution_count": 20,
   "id": "c1efc224-576f-43c1-8df3-cc6afd52714b",
   "metadata": {},
   "outputs": [
    {
     "name": "stdout",
     "output_type": "stream",
     "text": [
      "('ProductKey', 'int', 'NO', 'PRI', None, '')\n",
      "('ProductName', 'varchar(100)', 'YES', '', None, '')\n",
      "('Brand', 'varchar(100)', 'YES', '', None, '')\n",
      "('Color', 'varchar(50)', 'YES', '', None, '')\n",
      "('UnitCostUSD', 'float', 'YES', '', None, '')\n",
      "('UnitPriceUSD', 'float', 'YES', '', None, '')\n",
      "('SubcategoryKey', 'int', 'YES', '', None, '')\n",
      "('Subcategory', 'varchar(100)', 'YES', '', None, '')\n",
      "('CategoryKey', 'int', 'YES', '', None, '')\n",
      "('Category', 'varchar(100)', 'YES', '', None, '')\n"
     ]
    }
   ],
   "source": [
    "query =\"describe products\"\n",
    "cursor.execute(query)\n",
    "for i in cursor:\n",
    "    print(i)"
   ]
  },
  {
   "cell_type": "code",
   "execution_count": 21,
   "id": "b48a35bf-2ab8-440f-b58f-eb7db7acb3f9",
   "metadata": {},
   "outputs": [
    {
     "name": "stdout",
     "output_type": "stream",
     "text": [
      "('Date', 'date', 'NO', 'PRI', None, '')\n",
      "('Currency', 'varchar(10)', 'NO', 'PRI', None, '')\n",
      "('Exchange', 'float', 'YES', '', None, '')\n"
     ]
    }
   ],
   "source": [
    "query =\"describe exchange_rate\"\n",
    "cursor.execute(query)\n",
    "for i in cursor:\n",
    "    print(i)"
   ]
  },
  {
   "cell_type": "code",
   "execution_count": 1,
   "id": "5efdc921-23b9-4637-9836-7a53326c3c83",
   "metadata": {},
   "outputs": [
    {
     "name": "stdout",
     "output_type": "stream",
     "text": [
      "Connected to MySQL database\n"
     ]
    },
    {
     "ename": "NameError",
     "evalue": "name 'df_exchange_rates' is not defined",
     "output_type": "error",
     "traceback": [
      "\u001b[1;31m---------------------------------------------------------------------------\u001b[0m",
      "\u001b[1;31mNameError\u001b[0m                                 Traceback (most recent call last)",
      "Cell \u001b[1;32mIn[1], line 101\u001b[0m\n\u001b[0;32m     99\u001b[0m df_customers\u001b[38;5;241m.\u001b[39mrename(columns\u001b[38;5;241m=\u001b[39mcolumn_mappings[\u001b[38;5;124m'\u001b[39m\u001b[38;5;124mcustomers\u001b[39m\u001b[38;5;124m'\u001b[39m], inplace\u001b[38;5;241m=\u001b[39m\u001b[38;5;28;01mTrue\u001b[39;00m)\n\u001b[0;32m    100\u001b[0m df_products\u001b[38;5;241m.\u001b[39mrename(columns\u001b[38;5;241m=\u001b[39mcolumn_mappings[\u001b[38;5;124m'\u001b[39m\u001b[38;5;124mproducts\u001b[39m\u001b[38;5;124m'\u001b[39m], inplace\u001b[38;5;241m=\u001b[39m\u001b[38;5;28;01mTrue\u001b[39;00m)\n\u001b[1;32m--> 101\u001b[0m df_exchange_rates\u001b[38;5;241m.\u001b[39mrename(columns\u001b[38;5;241m=\u001b[39mcolumn_mappings[\u001b[38;5;124m'\u001b[39m\u001b[38;5;124mexchange_rates\u001b[39m\u001b[38;5;124m'\u001b[39m], inplace\u001b[38;5;241m=\u001b[39m\u001b[38;5;28;01mTrue\u001b[39;00m)\n\u001b[0;32m    102\u001b[0m df_stores\u001b[38;5;241m.\u001b[39mrename(columns\u001b[38;5;241m=\u001b[39mcolumn_mappings[\u001b[38;5;124m'\u001b[39m\u001b[38;5;124mstores\u001b[39m\u001b[38;5;124m'\u001b[39m], inplace\u001b[38;5;241m=\u001b[39m\u001b[38;5;28;01mTrue\u001b[39;00m)\n\u001b[0;32m    103\u001b[0m df_sales\u001b[38;5;241m.\u001b[39mrename(columns\u001b[38;5;241m=\u001b[39mcolumn_mappings[\u001b[38;5;124m'\u001b[39m\u001b[38;5;124msales\u001b[39m\u001b[38;5;124m'\u001b[39m], inplace\u001b[38;5;241m=\u001b[39m\u001b[38;5;28;01mTrue\u001b[39;00m)\n",
      "\u001b[1;31mNameError\u001b[0m: name 'df_exchange_rates' is not defined"
     ]
    }
   ],
   "source": [
    "import pandas as pd\n",
    "import mysql.connector\n",
    "from mysql.connector import Error\n",
    "\n",
    "def insert_data(df, table_name, cursor, column_mapping):\n",
    "    # Quote column names to handle special characters or spaces\n",
    "    cols = \",\".join([f\"`{column_mapping.get(i, i)}`\" for i in df.columns.tolist()])\n",
    "\n",
    "    for i, row in df.iterrows():\n",
    "        # Replace NaN values with None to insert as NULL in MySQL\n",
    "        row = row.where(pd.notnull(row), None)\n",
    "        \n",
    "        # Check for any None values in the row\n",
    "        if row.isnull().any():\n",
    "            print(f\"Row {i} contains NaN values that are being replaced with None: {row}\")\n",
    "        \n",
    "        # Create placeholders for the SQL query\n",
    "        placeholders = \", \".join([\"%s\"] * len(row))\n",
    "        sql = f\"INSERT INTO {table_name} ({cols}) VALUES ({placeholders})\"\n",
    "        try:\n",
    "            cursor.execute(sql, tuple(row))\n",
    "        except Error as e:\n",
    "            print(f\"Error inserting row {i}: {e}\")\n",
    "            continue\n",
    "\n",
    "try:\n",
    "    # Establish the connection\n",
    "    con = mysql.connector.connect(\n",
    "        host=\"localhost\",\n",
    "        user=\"root\",\n",
    "        password=\"Nagunaveen@143\",\n",
    "        database=\"global_electronics\"\n",
    "    )\n",
    "\n",
    "    if con.is_connected():\n",
    "        print(\"Connected to MySQL database\")\n",
    "\n",
    "        # Create a cursor object\n",
    "        cursor = con.cursor()\n",
    "\n",
    "        # Load data from Excel files into DataFrames\n",
    "        df_customers = pd.read_excel(r'C:\\\\Users\\\\Green Gen Tech\\\\Downloads\\\\Customer_new.xlsx')\n",
    "        df_products = pd.read_excel('C:\\\\Users\\\\Green Gen Tech\\\\Downloads\\\\products_cleaned.xlsx')\n",
    "        df_exchange_rate = pd.read_excel(r'C:\\Users\\Green Gen Tech\\Downloads\\exchange_new.xlsx')\n",
    "        df_stores = pd.read_excel(r'C:\\\\Users\\\\Green Gen Tech\\\\Downloads\\\\stores_new_cleaned.xlsx')\n",
    "        df_sales = pd.read_excel(r'C:\\\\Users\\\\Green Gen Tech\\\\Downloads\\\\Sales_again_1.xlsx')\n",
    "\n",
    "        # Define column mappings for each table\n",
    "        column_mappings = {\n",
    "            'customers': {\n",
    "                'CustomerKey': 'CustomerKey', \n",
    "                'Gender': 'Gender', \n",
    "                'Name': 'Name', \n",
    "                'City': 'City', \n",
    "                'State': 'State', \n",
    "                'Zip Code': 'Zip_Code', \n",
    "                'Country': 'Country', \n",
    "                'Continent': 'Continent', \n",
    "                'Birthday': 'Birthday'\n",
    "            },\n",
    "            'products': {\n",
    "                'ProductKey': 'ProductKey', \n",
    "                'Product Name': 'ProductName', \n",
    "                'Brand': 'Brand', \n",
    "                'Color': 'Color', \n",
    "                'Unit Cost USD': 'UnitCostUSD', \n",
    "                'Unit Price USD': 'UnitPriceUSD', \n",
    "                'SubcategoryKey': 'SubcategoryKey', \n",
    "                'Subcategory': 'Subcategory', \n",
    "                'CategoryKey': 'CategoryKey', \n",
    "                'Category': 'Category'\n",
    "            },\n",
    "            'sales': {\n",
    "                'Order Number': 'OrderNumber', \n",
    "                'Line Item': 'LineItem', \n",
    "                'Order Date': 'OrderDate', \n",
    "                'Delivery Date': 'DeliveryDate', \n",
    "                'CustomerKey': 'CustomerKey', \n",
    "                'StoreKey': 'StoreKey', \n",
    "                'ProductKey': 'ProductKey', \n",
    "                'Quantity': 'Quantity', \n",
    "                'Currency Code': 'CurrencyCode'\n",
    "            },\n",
    "            'exchange_rates': {\n",
    "                'Date': 'Date', \n",
    "                'Currency': 'Currency', \n",
    "                'Exchange': 'Exchange'\n",
    "            },\n",
    "            'stores': {\n",
    "                'StoreKey': 'StoreKey', \n",
    "                'Country': 'Country', \n",
    "                'State': 'State', \n",
    "                'Square Meters': 'SquareMeters', \n",
    "                'Open Date': 'OpenDate'\n",
    "            }\n",
    "        }\n",
    "\n",
    "        # Rename columns in DataFrames to match MySQL schema\n",
    "        df_customers.rename(columns=column_mappings['customers'], inplace=True)\n",
    "        df_products.rename(columns=column_mappings['products'], inplace=True)\n",
    "        df_exchange_rates.rename(columns=column_mappings['exchange_rates'], inplace=True)\n",
    "        df_stores.rename(columns=column_mappings['stores'], inplace=True)\n",
    "        df_sales.rename(columns=column_mappings['sales'], inplace=True)\n",
    "        # Insert data into respective MySQL tables\n",
    "        insert_data(df_stores, 'stores', cursor, column_mappings['stores'])\n",
    "        con.commit()  # Commit after inserting into stores\n",
    "\n",
    "        insert_data(df_products, 'products', cursor, column_mappings['products'])\n",
    "        insert_data(df_customers, 'customers', cursor, column_mappings['customers'])\n",
    "        insert_data(df_exchange_rates, 'exchange_rates', cursor, column_mappings['exchange_rates'])\n",
    "        \n",
    "        # Insert sales data after ensuring stores data is present\n",
    "        insert_data(df_sales, 'sales', cursor, column_mappings['sales'])\n",
    "        \n",
    "        # Commit the transaction\n",
    "        con.commit()\n",
    "        print(\"Data inserted successfully.\")\n",
    "\n",
    "    # Close the cursor and connection\n",
    "    cursor.close()\n",
    "    con.close()\n",
    "\n",
    "except Error as e:\n",
    "    print(f\"Error: {e}\")\n"
   ]
  },
  {
   "cell_type": "code",
   "execution_count": null,
   "id": "e4c449c1-3e41-42b0-844a-1d45876ab2b7",
   "metadata": {},
   "outputs": [],
   "source": []
  },
  {
   "cell_type": "code",
   "execution_count": 16,
   "id": "03e26c74-5ffc-4c23-b00c-943beaf7940e",
   "metadata": {},
   "outputs": [],
   "source": [
    "import pandas as pd\n",
    "import mysql.connector\n",
    "from mysql.connector import Error\n",
    "\n",
    "def insert_data(df, table_name, cursor, column_mapping):\n",
    "    # Quote column names to handle special characters or spaces\n",
    "    cols = \",\".join([f\"`{column_mapping.get(i, i)}`\" for i in df.columns.tolist()])\n",
    "\n",
    "    for i, row in df.iterrows():\n",
    "        # Replace NaN values with None to insert as NULL in MySQL\n",
    "        row = row.where(pd.notnull(row), None)\n",
    "        \n",
    "        # Check for any None values in the row\n",
    "        if row.isnull().any():\n",
    "            print(f\"Row {i} contains NaN values that are being replaced with None: {row}\")\n",
    "        \n",
    "        # Create placeholders for the SQL query\n",
    "        placeholders = \", \".join([\"%s\"] * len(row))\n",
    "        sql = f\"INSERT INTO {table_name} ({cols}) VALUES ({placeholders})\"\n",
    "        try:\n",
    "            cursor.execute(sql, tuple(row))\n",
    "        except Error as e:\n",
    "            print(f\"Error inserting row {i}: {e}\")\n",
    "            continue\n",
    "\n"
   ]
  },
  {
   "cell_type": "code",
   "execution_count": 17,
   "id": "62a9a2d0-330b-4923-8cea-5c46c288c8b3",
   "metadata": {},
   "outputs": [
    {
     "name": "stdout",
     "output_type": "stream",
     "text": [
      "Connected to MySQL database\n",
      "Data inserted successfully.\n"
     ]
    }
   ],
   "source": [
    "try:\n",
    "    # Establish the connection\n",
    "    con = mysql.connector.connect(\n",
    "        host=\"localhost\",\n",
    "        user=\"root\",\n",
    "        password=\"Nagunaveen@143\",\n",
    "        database=\"global_electronics\"\n",
    "    )\n",
    "\n",
    "    if con.is_connected():\n",
    "        print(\"Connected to MySQL database\")\n",
    "\n",
    "        # Create a cursor object\n",
    "        cursor = con.cursor()\n",
    "\n",
    "        #Load data from Excel files into DataFrames\n",
    "        #df_customers = pd.read_excel(r'C:\\\\Users\\\\Green Gen Tech\\\\Downloads\\\\Customer_new.xlsx')\n",
    "        #df_products = pd.read_excel('C:\\\\Users\\\\Green Gen Tech\\\\Downloads\\\\products_cleaned.xlsx')\n",
    "       # df_stores = pd.read_excel(r'C:\\\\Users\\\\Green Gen Tech\\\\Downloads\\\\stores_new_cleaned.xlsx')\n",
    "        #df_exchange_rate = pd.read_excel(r'C:\\Users\\Green Gen Tech\\Downloads\\exchange_new.xlsx')\n",
    "        df_sales = pd.read_excel(r'C:\\\\Users\\\\Green Gen Tech\\\\Downloads\\\\Sales_again_1.xlsx')\n",
    "\n",
    "        # Define column mappings for each table\n",
    "        column_mappings = {\n",
    "            'customers': {\n",
    "                'CustomerKey': 'CustomerKey', \n",
    "                'Gender': 'Gender', \n",
    "                'Name': 'Name', \n",
    "                'City': 'City', \n",
    "                'State': 'State', \n",
    "                'Zip Code': 'Zip_Code', \n",
    "                'Country': 'Country', \n",
    "                'Continent': 'Continent', \n",
    "                'Birthday': 'Birthday'\n",
    "            },\n",
    "            'products': {\n",
    "                'ProductKey': 'ProductKey', \n",
    "                'Product Name': 'ProductName', \n",
    "                'Brand': 'Brand', \n",
    "                'Color': 'Color', \n",
    "                'Unit Cost USD': 'UnitCostUSD', \n",
    "                'Unit Price USD': 'UnitPriceUSD', \n",
    "                'SubcategoryKey': 'SubcategoryKey', \n",
    "                'Subcategory': 'Subcategory', \n",
    "                'CategoryKey': 'CategoryKey', \n",
    "                'Category': 'Category'\n",
    "            },\n",
    "            'sales': {\n",
    "                'Order Number': 'OrderNumber', \n",
    "                'Line Item': 'LineItem', \n",
    "                'Order Date': 'OrderDate', \n",
    "                'Delivery Date': 'DeliveryDate', \n",
    "                'CustomerKey': 'CustomerKey', \n",
    "                'StoreKey': 'StoreKey', \n",
    "                'ProductKey': 'ProductKey', \n",
    "                'Quantity': 'Quantity', \n",
    "                'Currency Code': 'CurrencyCode'\n",
    "            },\n",
    "            'exchange_rates': {\n",
    "                'Date': 'Date', \n",
    "                'Currency': 'Currency', \n",
    "                'Exchange': 'Exchange'\n",
    "            },\n",
    "            'stores': {\n",
    "                'StoreKey': 'StoreKey', \n",
    "                'Country': 'Country', \n",
    "                'State': 'State', \n",
    "                'Square Meters': 'SquareMeters', \n",
    "                'Open Date': 'OpenDate'\n",
    "            }\n",
    "        }\n",
    "\n",
    "        # Rename columns in DataFrames to match MySQL schema\n",
    "        df_customers.rename(columns=column_mappings['customers'], inplace=True)\n",
    "        df_products.rename(columns=column_mappings['products'], inplace=True)\n",
    "        df_exchange_rates.rename(columns=column_mappings['exchange_rates'], inplace=True)\n",
    "        df_stores.rename(columns=column_mappings['stores'], inplace=True)\n",
    "        df_sales.rename(columns=column_mappings['sales'], inplace=True)\n",
    "        # Insert data into respective MySQL tables\n",
    "        insert_data(df_stores, 'stores', cursor, column_mappings['stores'])\n",
    "        con.commit()  # Commit after inserting into stores\n",
    "\n",
    "        insert_data(df_products, 'products', cursor, column_mappings['products'])\n",
    "        insert_data(df_customers, 'customers', cursor, column_mappings['customers'])\n",
    "        insert_data(df_exchange_rates, 'exchange_rates', cursor, column_mappings['exchange_rates'])\n",
    "        \n",
    "        # Insert sales data after ensuring stores data is present\n",
    "        insert_data(df_sales, 'sales', cursor, column_mappings['sales'])\n",
    "        \n",
    "    \n",
    "        # Commit the transaction\n",
    "        con.commit()\n",
    "        print(\"Data inserted successfully.\")\n",
    "\n",
    "    # Close the cursor and connection\n",
    "    cursor.close()\n",
    "    con.close()\n",
    "\n",
    "except Error as e:\n",
    "    print(f\"Error: {e}\")\n"
   ]
  },
  {
   "cell_type": "code",
   "execution_count": null,
   "id": "3d4d92e2-9adf-4e11-b91a-0232986c1b22",
   "metadata": {},
   "outputs": [],
   "source": []
  }
 ],
 "metadata": {
  "kernelspec": {
   "display_name": "Python 3 (ipykernel)",
   "language": "python",
   "name": "python3"
  },
  "language_info": {
   "codemirror_mode": {
    "name": "ipython",
    "version": 3
   },
   "file_extension": ".py",
   "mimetype": "text/x-python",
   "name": "python",
   "nbconvert_exporter": "python",
   "pygments_lexer": "ipython3",
   "version": "3.11.7"
  }
 },
 "nbformat": 4,
 "nbformat_minor": 5
}
